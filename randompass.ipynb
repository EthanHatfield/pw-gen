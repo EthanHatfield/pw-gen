{
 "cells": [
  {
   "cell_type": "code",
   "execution_count": 10,
   "id": "29cc6163-a32b-4c5a-84e0-35afb49d2e19",
   "metadata": {},
   "outputs": [
    {
     "name": "stdin",
     "output_type": "stream",
     "text": [
      "How long would you like your password (maximum of 25)? 25\n",
      "Would you like to use special characters y/n? n\n"
     ]
    },
    {
     "name": "stdout",
     "output_type": "stream",
     "text": [
      "25\n",
      "n\n",
      "MZX5JZosJk7vTXA5VSHokyOJi\n"
     ]
    }
   ],
   "source": [
    "import secrets\n",
    "import string\n",
    "\n",
    "letters = string.ascii_letters\n",
    "digits = string.digits\n",
    "special_chars = string.punctuation\n",
    "\n",
    "length = int(input(\"How long would you like your password (maximum of 25)?\"))\n",
    "spc = input(\"Would you like to use special characters y/n?\")\n",
    "\n",
    "print(length)\n",
    "print(spc)\n",
    "\n",
    "if spc == 'y':\n",
    "    alphabet = letters + digits + special_chars\n",
    "else:\n",
    "    alphabet = letters + digits\n",
    "    \n",
    "pw_length = length\n",
    "\n",
    "pwd = ''\n",
    "for i in range(pw_length):\n",
    "    pwd += ''.join(secrets.choice(alphabet))\n",
    "    \n",
    "print(pwd)"
   ]
  },
  {
   "cell_type": "code",
   "execution_count": null,
   "id": "f7d1b6cb-b560-410a-82d6-86493175d572",
   "metadata": {},
   "outputs": [],
   "source": []
  },
  {
   "cell_type": "code",
   "execution_count": null,
   "id": "3f18f6ff-5014-4eb8-96c5-3becc639b73e",
   "metadata": {},
   "outputs": [],
   "source": []
  },
  {
   "cell_type": "code",
   "execution_count": null,
   "id": "6a975b22-107f-41b6-a3e5-144830aab507",
   "metadata": {},
   "outputs": [],
   "source": []
  }
 ],
 "metadata": {
  "kernelspec": {
   "display_name": "Python 3 (ipykernel)",
   "language": "python",
   "name": "python3"
  },
  "language_info": {
   "codemirror_mode": {
    "name": "ipython",
    "version": 3
   },
   "file_extension": ".py",
   "mimetype": "text/x-python",
   "name": "python",
   "nbconvert_exporter": "python",
   "pygments_lexer": "ipython3",
   "version": "3.9.13"
  }
 },
 "nbformat": 4,
 "nbformat_minor": 5
}
